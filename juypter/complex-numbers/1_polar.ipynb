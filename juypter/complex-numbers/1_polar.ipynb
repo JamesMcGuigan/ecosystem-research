{
 "cells": [
  {
   "cell_type": "markdown",
   "metadata": {},
   "source": [
    "# Polar Coordinates"
   ]
  },
  {
   "cell_type": "code",
   "execution_count": 1,
   "metadata": {},
   "outputs": [],
   "source": [
    "import cmath\n",
    "from pydash import py_ as _"
   ]
  },
  {
   "cell_type": "code",
   "execution_count": 2,
   "metadata": {},
   "outputs": [
    {
     "data": {
      "text/plain": [
       "[(1+2j), (3+4j), (-5-6j)]"
      ]
     },
     "execution_count": 2,
     "metadata": {},
     "output_type": "execute_result"
    }
   ],
   "source": [
    "A = complex(1.0, 2.0); \n",
    "B = complex(3.0, 4.0); \n",
    "C = complex(-5.0, -6.0);\n",
    "[A, B, C]"
   ]
  },
  {
   "cell_type": "code",
   "execution_count": 3,
   "metadata": {},
   "outputs": [
    {
     "data": {
      "text/plain": [
       "{'A': [(1+2j),\n",
       "  (2.23606797749979, 1.1071487177940904),\n",
       "  [2.23606797749979, 1.1071487177940904]],\n",
       " 'B': [(3+4j), (5.0, 0.9272952180016122), [5.0, 0.9272952180016122]],\n",
       " 'C': [(-5-6j),\n",
       "  (7.810249675906654, -2.2655346029916),\n",
       "  [7.810249675906654, -2.2655346029916]]}"
      ]
     },
     "execution_count": 3,
     "metadata": {},
     "output_type": "execute_result"
    }
   ],
   "source": [
    "{\n",
    "    \"A\": [A, cmath.polar(A), [abs(A), cmath.phase(A)]],\n",
    "    \"B\": [B, cmath.polar(B), [abs(B), cmath.phase(B)]],\n",
    "    \"C\": [C, cmath.polar(C), [abs(C), cmath.phase(C)]],\n",
    "}"
   ]
  },
  {
   "cell_type": "markdown",
   "metadata": {},
   "source": [
    "## Polar Multiplication\n",
    "\n",
    "A * B = (|A|\\*|B|)r + (Aφ * Bφ)φ"
   ]
  },
  {
   "cell_type": "code",
   "execution_count": 4,
   "metadata": {},
   "outputs": [
    {
     "data": {
      "text/plain": [
       "((-5+10j), (11.180339887498949, 2.0344439357957027))"
      ]
     },
     "execution_count": 4,
     "metadata": {},
     "output_type": "execute_result"
    }
   ],
   "source": [
    "A * B, cmath.polar(A*B)"
   ]
  },
  {
   "cell_type": "code",
   "execution_count": 5,
   "metadata": {},
   "outputs": [
    {
     "data": {
      "text/plain": [
       "True"
      ]
     },
     "execution_count": 5,
     "metadata": {},
     "output_type": "execute_result"
    }
   ],
   "source": [
    "cmath.polar(A*B) == (abs(A)*abs(B), cmath.phase(A)+cmath.phase(B))"
   ]
  },
  {
   "cell_type": "markdown",
   "metadata": {},
   "source": [
    "## Polar Division\n",
    "\n",
    "A / B = (|A|/|B|)r + (Aφ - Bφ)φ\n",
    "\n",
    "NOTE: small floating point rounding error"
   ]
  },
  {
   "cell_type": "code",
   "execution_count": 6,
   "metadata": {},
   "outputs": [
    {
     "data": {
      "text/plain": [
       "((0.44+0.08j), (0.4472135954999579, 0.17985349979247828))"
      ]
     },
     "execution_count": 6,
     "metadata": {},
     "output_type": "execute_result"
    }
   ],
   "source": [
    "A / B, cmath.polar(A/B)"
   ]
  },
  {
   "cell_type": "code",
   "execution_count": 7,
   "metadata": {},
   "outputs": [
    {
     "data": {
      "text/plain": [
       "((0.4472135954999579, 0.17985349979247828),\n",
       " (0.447213595499958, 0.17985349979247822))"
      ]
     },
     "execution_count": 7,
     "metadata": {},
     "output_type": "execute_result"
    }
   ],
   "source": [
    "cmath.polar(A/B), \\\n",
    "(abs(A)/abs(B), cmath.phase(A)-cmath.phase(B))"
   ]
  },
  {
   "cell_type": "code",
   "execution_count": 8,
   "metadata": {},
   "outputs": [
    {
     "data": {
      "text/plain": [
       "(-5.551115123125783e-17+1.3877787807814457e-17j)"
      ]
     },
     "execution_count": 8,
     "metadata": {},
     "output_type": "execute_result"
    }
   ],
   "source": [
    "complex(cmath.rect(*cmath.polar(A/B))) - \\\n",
    "complex(cmath.rect(*(abs(A)/abs(B), cmath.phase(A)-cmath.phase(B))))"
   ]
  },
  {
   "cell_type": "code",
   "execution_count": 9,
   "metadata": {},
   "outputs": [],
   "source": [
    "def round_complex(number, digits):\n",
    "    if isinstance(number, complex):\n",
    "        return complex(round(number.real, digits), round(number.imag, digits))\n",
    "    if isinstance(number, tuple):\n",
    "        return tuple( round(n, digits) for n in number )\n",
    "    return complex(round(number, digits))"
   ]
  },
  {
   "cell_type": "code",
   "execution_count": 10,
   "metadata": {},
   "outputs": [
    {
     "data": {
      "text/plain": [
       "((0.4472135955, 0.1798534998), (0.4472135955, 0.1798534998))"
      ]
     },
     "execution_count": 10,
     "metadata": {},
     "output_type": "execute_result"
    }
   ],
   "source": [
    "round_complex(cmath.polar(A/B), 10), round_complex((abs(A)/abs(B), cmath.phase(A)-cmath.phase(B)), 10)"
   ]
  },
  {
   "cell_type": "code",
   "execution_count": 11,
   "metadata": {},
   "outputs": [
    {
     "data": {
      "text/plain": [
       "True"
      ]
     },
     "execution_count": 11,
     "metadata": {},
     "output_type": "execute_result"
    }
   ],
   "source": [
    "round_complex(cmath.polar(A/B), 10) == round_complex((abs(A)/abs(B), cmath.phase(A)-cmath.phase(B)), 10)"
   ]
  }
 ],
 "metadata": {
  "kernelspec": {
   "display_name": "Python 3",
   "language": "python",
   "name": "python3"
  },
  "language_info": {
   "codemirror_mode": {
    "name": "ipython",
    "version": 3
   },
   "file_extension": ".py",
   "mimetype": "text/x-python",
   "name": "python",
   "nbconvert_exporter": "python",
   "pygments_lexer": "ipython3",
   "version": "3.6.7"
  }
 },
 "nbformat": 4,
 "nbformat_minor": 2
}
