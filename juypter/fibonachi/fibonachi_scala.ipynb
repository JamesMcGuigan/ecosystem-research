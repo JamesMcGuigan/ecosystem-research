{
 "cells": [
  {
   "cell_type": "markdown",
   "metadata": {},
   "source": [
    "# Scala\n",
    "- http://almond-sh.github.io/almond/stable/docs/usage-shell"
   ]
  },
  {
   "cell_type": "code",
   "execution_count": null,
   "metadata": {},
   "outputs": [],
   "source": []
  },
  {
   "cell_type": "code",
   "execution_count": 1,
   "metadata": {},
   "outputs": [
    {
     "data": {
      "text/plain": [
       "defined \u001b[32mfunction\u001b[39m \u001b[36mfibonachi_uncached\u001b[39m"
      ]
     },
     "execution_count": 1,
     "metadata": {},
     "output_type": "execute_result"
    }
   ],
   "source": [
    "def fibonachi_uncached(n: Int) : Int = {\n",
    "    if( n <= 1 ) { return n; }\n",
    "    else         { return fibonachi_uncached(n-1) + fibonachi_uncached(n-2) }\n",
    "}"
   ]
  },
  {
   "cell_type": "code",
   "execution_count": 2,
   "metadata": {},
   "outputs": [
    {
     "data": {
      "text/plain": [
       "\u001b[36mres1\u001b[39m: \u001b[32mInt\u001b[39m = \u001b[32m55\u001b[39m"
      ]
     },
     "execution_count": 2,
     "metadata": {},
     "output_type": "execute_result"
    }
   ],
   "source": [
    "fibonachi_uncached(10)"
   ]
  },
  {
   "cell_type": "code",
   "execution_count": 10,
   "metadata": {},
   "outputs": [
    {
     "data": {
      "text/plain": [
       "\u001b[32mimport \u001b[39m\u001b[36mscala.collection.mutable.HashMap\n",
       "\n",
       "\u001b[39m\n",
       "\u001b[36mfibonachi_cached__cache\u001b[39m: \u001b[32mHashMap\u001b[39m[\u001b[32mInt\u001b[39m, \u001b[32mInt\u001b[39m] = \u001b[33mMap\u001b[39m()\n",
       "defined \u001b[32mfunction\u001b[39m \u001b[36mfibonachi_cached\u001b[39m"
      ]
     },
     "execution_count": 10,
     "metadata": {},
     "output_type": "execute_result"
    }
   ],
   "source": [
    "import scala.collection.mutable.HashMap\n",
    "\n",
    "val fibonachi_cached__cache : HashMap[Int,Int] = HashMap()\n",
    "def fibonachi_cached(n: Int) : Int = {\n",
    "    if( ! fibonachi_cached__cache.contains(n) ) {\n",
    "        var value : Int = 0\n",
    "        if( n <= 1 ) { value = n; }\n",
    "        else         { value = fibonachi_cached(n-1) + fibonachi_cached(n-2) }\n",
    "        fibonachi_cached__cache.put(n, value)\n",
    "    }\n",
    "    return fibonachi_cached__cache.getOrElse(n, 0) \n",
    "}"
   ]
  },
  {
   "cell_type": "code",
   "execution_count": 11,
   "metadata": {},
   "outputs": [
    {
     "data": {
      "text/plain": [
       "\u001b[36mres10\u001b[39m: \u001b[32mInt\u001b[39m = \u001b[32m55\u001b[39m"
      ]
     },
     "execution_count": 11,
     "metadata": {},
     "output_type": "execute_result"
    }
   ],
   "source": [
    "fibonachi_cached(10)"
   ]
  },
  {
   "cell_type": "code",
   "execution_count": 12,
   "metadata": {},
   "outputs": [
    {
     "data": {
      "text/plain": [
       "\u001b[36mres11\u001b[39m: \u001b[32mHashMap\u001b[39m[\u001b[32mInt\u001b[39m, \u001b[32mInt\u001b[39m] = \u001b[33mMap\u001b[39m(\n",
       "  \u001b[32m8\u001b[39m -> \u001b[32m21\u001b[39m,\n",
       "  \u001b[32m2\u001b[39m -> \u001b[32m1\u001b[39m,\n",
       "  \u001b[32m5\u001b[39m -> \u001b[32m5\u001b[39m,\n",
       "  \u001b[32m4\u001b[39m -> \u001b[32m3\u001b[39m,\n",
       "  \u001b[32m7\u001b[39m -> \u001b[32m13\u001b[39m,\n",
       "  \u001b[32m10\u001b[39m -> \u001b[32m55\u001b[39m,\n",
       "  \u001b[32m1\u001b[39m -> \u001b[32m1\u001b[39m,\n",
       "  \u001b[32m9\u001b[39m -> \u001b[32m34\u001b[39m,\n",
       "  \u001b[32m3\u001b[39m -> \u001b[32m2\u001b[39m,\n",
       "  \u001b[32m6\u001b[39m -> \u001b[32m8\u001b[39m,\n",
       "  \u001b[32m0\u001b[39m -> \u001b[32m0\u001b[39m\n",
       ")"
      ]
     },
     "execution_count": 12,
     "metadata": {},
     "output_type": "execute_result"
    }
   ],
   "source": [
    "fibonachi_cached__cache"
   ]
  },
  {
   "cell_type": "code",
   "execution_count": 4,
   "metadata": {},
   "outputs": [
    {
     "name": "stderr",
     "output_type": "stream",
     "text": [
      "cmd4.sc:4: type mismatch;\n",
      " found   : Any => Nothing\n",
      " required: Int\n",
      "def fibonachi_memoized(n: Int) : Int = Memo.mutableHashMapMemo {\n",
      "                                                               ^Compilation Failed"
     ]
    },
    {
     "ename": "",
     "evalue": "",
     "output_type": "error",
     "traceback": [
      "Compilation Failed"
     ]
    }
   ],
   "source": [
    "// DOCS: http://eed3si9n.com/learning-scalaz/Memo.html\n",
    "import $ivy.`org.scalaz::scalaz-core:7.2.27`;\n",
    "\n",
    "import scalaz.Memo\n",
    "def fibonachi_memoized(n: Int) : Int = Memo.mutableHashMapMemo {\n",
    "    var value : Int = 0\n",
    "    if( n <= 1 ) { value = n; }\n",
    "    else         { value = fibonachi_uncached(n-1) + fibonachi_uncached(n-2) }\n",
    "    return value\n",
    "}"
   ]
  },
  {
   "cell_type": "code",
   "execution_count": null,
   "metadata": {},
   "outputs": [],
   "source": [
    "fibonachi(10)"
   ]
  },
  {
   "cell_type": "code",
   "execution_count": 17,
   "metadata": {},
   "outputs": [
    {
     "data": {
      "text/plain": [
       "\u001b[36mres16\u001b[39m: \u001b[32mBoolean\u001b[39m = true"
      ]
     },
     "execution_count": 17,
     "metadata": {},
     "output_type": "execute_result"
    }
   ],
   "source": [
    "Range(0, 10+1, 1).map(n => fibonachi_uncached(n)) == Range(0, 10+1, 1).map(n => fibonachi_cached(n))"
   ]
  }
 ],
 "metadata": {
  "kernelspec": {
   "display_name": "Scala",
   "language": "scala",
   "name": "scala"
  },
  "language_info": {
   "codemirror_mode": "text/x-scala",
   "file_extension": ".scala",
   "mimetype": "text/x-scala",
   "name": "scala",
   "nbconvert_exporter": "script",
   "version": "2.12.7"
  }
 },
 "nbformat": 4,
 "nbformat_minor": 2
}
