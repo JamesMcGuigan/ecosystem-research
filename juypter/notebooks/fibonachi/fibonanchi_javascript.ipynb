{
 "cells": [
  {
   "cell_type": "markdown",
   "metadata": {},
   "source": [
    "# Javascript"
   ]
  },
  {
   "cell_type": "code",
   "execution_count": 1,
   "metadata": {},
   "outputs": [],
   "source": [
    "function fibonachi_uncached(n) {\n",
    "    if( n <= 1 ) { return n; }\n",
    "    else         { return fibonachi_uncached(n-1) + fibonachi_uncached(n-2) }\n",
    "}"
   ]
  },
  {
   "cell_type": "code",
   "execution_count": 2,
   "metadata": {},
   "outputs": [
    {
     "data": {
      "text/plain": [
       "55"
      ]
     },
     "execution_count": 2,
     "metadata": {},
     "output_type": "execute_result"
    }
   ],
   "source": [
    "fibonachi_uncached(10)"
   ]
  },
  {
   "cell_type": "code",
   "execution_count": 4,
   "metadata": {},
   "outputs": [
    {
     "data": {
      "text/plain": [
       "[Function: bound fibonachi]"
      ]
     },
     "execution_count": 4,
     "metadata": {},
     "output_type": "execute_result"
    }
   ],
   "source": [
    "function fibonachi(n) {\n",
    "    if( !fibonachi.cache[n] ) {\n",
    "        if( n <= 1 ) { fibonachi.cache[n] = n; }\n",
    "        else         { fibonachi.cache[n] = fibonachi(n-1) + fibonachi(n-2) }        \n",
    "    }\n",
    "    return fibonachi.cache[n]\n",
    "}\n",
    "fibonachi.cache = {}\n",
    "fibonachi = fibonachi.bind(fibonachi)"
   ]
  },
  {
   "cell_type": "code",
   "execution_count": 5,
   "metadata": {},
   "outputs": [
    {
     "ename": "TypeError",
     "evalue": "Cannot read property '55' of undefined",
     "execution_count": 5,
     "output_type": "error",
     "traceback": [
      "evalmachine.<anonymous>:2",
      "    if( !fibonachi.cache[n] ) {",
      "                        ^",
      "",
      "TypeError: Cannot read property '55' of undefined",
      "    at Function.fibonachi (evalmachine.<anonymous>:2:25)",
      "    at evalmachine.<anonymous>:1:1",
      "    at Script.runInThisContext (vm.js:120:20)",
      "    at Object.runInThisContext (vm.js:311:38)",
      "    at run ([eval]:1054:15)",
      "    at onRunRequest ([eval]:888:18)",
      "    at onMessage ([eval]:848:13)",
      "    at process.emit (events.js:321:20)",
      "    at emit (internal/child_process.js:876:12)",
      "    at processTicksAndRejections (internal/process/task_queues.js:85:21)"
     ]
    }
   ],
   "source": [
    "fibonachi(55)"
   ]
  },
  {
   "cell_type": "code",
   "execution_count": null,
   "metadata": {},
   "outputs": [],
   "source": []
  }
 ],
 "metadata": {
  "kernelspec": {
   "display_name": "Javascript (Node.js)",
   "language": "javascript",
   "name": "javascript"
  },
  "language_info": {
   "file_extension": ".js",
   "mimetype": "application/javascript",
   "name": "javascript",
   "version": "12.16.0"
  }
 },
 "nbformat": 4,
 "nbformat_minor": 4
}
