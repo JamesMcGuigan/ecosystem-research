{
 "cells": [
  {
   "cell_type": "markdown",
   "metadata": {},
   "source": [
    "# Python\n",
    "\n",
    "This is an ipython notebook "
   ]
  },
  {
   "cell_type": "code",
   "execution_count": 1,
   "metadata": {},
   "outputs": [],
   "source": [
    "import timeit\n",
    "import simplejson\n",
    "from statistics import mean"
   ]
  },
  {
   "cell_type": "code",
   "execution_count": 2,
   "metadata": {},
   "outputs": [],
   "source": [
    "fibonanchi__cache={}\n",
    "def fibonanchi_cached(n):\n",
    "    if n not in fibonanchi__cache:\n",
    "        if n <= 1: fibonanchi__cache[n] = n\n",
    "        else:      fibonanchi__cache[n] = fibonanchi_cached(n-1) + fibonanchi_cached(n-2) \n",
    "    return fibonanchi__cache[n]\n",
    "\n",
    "def fibonanchi_uncached(n):\n",
    "    if n <= 1: return n\n",
    "    else:      return fibonanchi_uncached(n-1) + fibonanchi_uncached(n-2)\n",
    "    \n",
    "def fibonanchi_looped(n):\n",
    "    fibonanchi__loop_cache = [0,1]\n",
    "    if n >= len(fibonanchi__loop_cache): \n",
    "        for i in range(len(fibonanchi__loop_cache), n+1):\n",
    "            fibonanchi__loop_cache.append( fibonanchi__loop_cache[i-1] + fibonanchi__loop_cache[i-2] )\n",
    "    return fibonanchi__loop_cache[n]\n",
    "    \n",
    "def fibonanchi_range_cached(start=0,end=0):\n",
    "    if start and not end: end = start; start = 0;\n",
    "    return [ fibonanchi_cached(n) for n in range(start,end) ]\n",
    "    \n",
    "def fibonanchi_range_uncached(start=0,end=0):\n",
    "    if start and not end: end = start; start = 0;\n",
    "    return [ fibonanchi_uncached(n) for n in range(start,end) ]\n",
    "\n",
    "def fibonanchi_range_looped(start=0,end=0):\n",
    "    if start and not end: end = start; start = 0;\n",
    "    return [ fibonanchi_looped(n) for n in range(start,end) ]"
   ]
  },
  {
   "cell_type": "code",
   "execution_count": 3,
   "metadata": {},
   "outputs": [
    {
     "data": {
      "text/plain": [
       "222232244629420445529739893461909967206666939096499764990979600"
      ]
     },
     "execution_count": 3,
     "metadata": {},
     "output_type": "execute_result"
    }
   ],
   "source": [
    "fibonanchi_looped(300)"
   ]
  },
  {
   "cell_type": "code",
   "execution_count": 4,
   "metadata": {},
   "outputs": [
    {
     "data": {
      "text/plain": [
       "True"
      ]
     },
     "execution_count": 4,
     "metadata": {},
     "output_type": "execute_result"
    }
   ],
   "source": [
    "fibonanchi_range_cached(30) == fibonanchi_range_uncached(30) == fibonanchi_range_looped(30)"
   ]
  },
  {
   "cell_type": "code",
   "execution_count": 5,
   "metadata": {},
   "outputs": [
    {
     "data": {
      "text/plain": [
       "True"
      ]
     },
     "execution_count": 5,
     "metadata": {},
     "output_type": "execute_result"
    }
   ],
   "source": [
    "fibonanchi_cached(30) == fibonanchi_uncached(30) == fibonanchi_looped(30)"
   ]
  },
  {
   "cell_type": "markdown",
   "metadata": {},
   "source": [
    "#### Performance Tests"
   ]
  },
  {
   "cell_type": "markdown",
   "metadata": {},
   "source": [
    "How high we can fibonanchi in a reasonable time?"
   ]
  },
  {
   "cell_type": "code",
   "execution_count": 6,
   "metadata": {},
   "outputs": [
    {
     "data": {
      "text/plain": [
       "{'fibonanchi_cached': {2: 4.043999069835991e-06,\n",
       "  4: 2.642000254127197e-06,\n",
       "  8: 2.642000254127197e-06,\n",
       "  16: 2.4929995561251417e-06,\n",
       "  32: 7.720000212430023e-06,\n",
       "  64: 3.427099909458775e-05,\n",
       "  128: 7.386799916275777e-05,\n",
       "  256: 0.0001367679997201776,\n",
       "  512: 0.000350010001056944,\n",
       "  1024: 0.0006335969992505852,\n",
       "  2048: 0.0014873780000925763,\n",
       "  4096: 0.0035401929999352433},\n",
       " 'fibonanchi_looped': {2: 1.0523999662837014e-05,\n",
       "  4: 6.770998879801482e-06,\n",
       "  8: 7.761998858768493e-06,\n",
       "  16: 1.0530000508879311e-05,\n",
       "  32: 1.630600127100479e-05,\n",
       "  64: 2.8077000024495646e-05,\n",
       "  128: 5.1483000788721256e-05,\n",
       "  256: 0.00016133399913087487,\n",
       "  512: 0.00021935200129519217,\n",
       "  1024: 0.00042332800148869865,\n",
       "  2048: 0.0009211030010192189,\n",
       "  4096: 0.0021267600004648557,\n",
       "  8192: 0.008512929000062286,\n",
       "  16384: 0.030237303999456344,\n",
       "  32768: 0.10378496900011669,\n",
       "  65536: 0.40394193300016923,\n",
       "  131072: 1.4152641870005027},\n",
       " 'fibonanchi_uncached': {2: 8.697999874129891e-06,\n",
       "  4: 8.122000508592464e-06,\n",
       "  8: 2.7495998438098468e-05,\n",
       "  16: 0.0014457560009759618,\n",
       "  32: 1.8046317650005221}}"
      ]
     },
     "execution_count": 6,
     "metadata": {},
     "output_type": "execute_result"
    }
   ],
   "source": [
    "funcs   = { \"fibonanchi_uncached\": fibonanchi_uncached, \"fibonanchi_cached\": fibonanchi_cached, \"fibonanchi_looped\": fibonanchi_looped }\n",
    "timings = {}\n",
    "\n",
    "# Note: fibonanchi_uncached(64) takes an inordinate amount of time (got bored waiting)\n",
    "for name, func in funcs.items():\n",
    "    try:\n",
    "        time = 0\n",
    "        n    = 1\n",
    "        timings[name] = {}\n",
    "        while time <= 0.5:\n",
    "            time = timeit.timeit(lambda: func(2**n), number=1)\n",
    "            timings[name][2**n] = time\n",
    "            n    = n+1\n",
    "            # print(name, 2**n, time)\n",
    "    except Exception as exception: \n",
    "        # print(exception)\n",
    "        pass\n",
    "timings"
   ]
  },
  {
   "cell_type": "markdown",
   "metadata": {},
   "source": [
    "Now inspect relative timings for each doubling of the fibonanchi number"
   ]
  },
  {
   "cell_type": "code",
   "execution_count": 7,
   "metadata": {},
   "outputs": [
    {
     "data": {
      "text/plain": [
       "{'fibonanchi_cached': {4: 0.6533137640494924,\n",
       "  8: 1.0,\n",
       "  16: 0.9436030720400976,\n",
       "  32: 3.0966713144663314,\n",
       "  64: 4.439248465227733,\n",
       "  128: 2.155408395269789,\n",
       "  256: 1.8515189428486958,\n",
       "  512: 2.559151276417377,\n",
       "  1024: 1.8102254145232373,\n",
       "  2048: 2.347514274612787,\n",
       "  4096: 2.3801568933484947},\n",
       " 'fibonanchi_looped': {4: 0.6433864592101465,\n",
       "  8: 1.1463594953357998,\n",
       "  16: 1.3566093863804027,\n",
       "  32: 1.548528061062763,\n",
       "  64: 1.7218813832930309,\n",
       "  128: 1.833636098721557,\n",
       "  256: 3.1337334005250805,\n",
       "  512: 1.359614231822598,\n",
       "  1024: 1.9299026176606728,\n",
       "  2048: 2.175861265449054,\n",
       "  4096: 2.3089274468887333,\n",
       "  8192: 4.002768999887893,\n",
       "  16384: 3.5519271920669264,\n",
       "  32768: 3.4323486314118052,\n",
       "  65536: 3.8921043855562076,\n",
       "  131072: 3.5036327535718104},\n",
       " 'fibonanchi_uncached': {4: 0.933777951957599,\n",
       "  8: 3.3853726565283733,\n",
       "  16: 52.58059656319742,\n",
       "  32: 1248.2270616772819}}"
      ]
     },
     "execution_count": 7,
     "metadata": {},
     "output_type": "execute_result"
    }
   ],
   "source": [
    "timings_diff = {}\n",
    "for name, func in funcs.items():\n",
    "    timings_diff[name] = {}\n",
    "    for n in range(0,100):\n",
    "        if 2**n in timings[name] and 2**(n+1) in timings[name]:\n",
    "            timings_diff[name][2**(n+1)] = timings[name][2**(n+1)] / timings[name][2**n] \n",
    "\n",
    "timings_diff"
   ]
  },
  {
   "cell_type": "code",
   "execution_count": 8,
   "metadata": {},
   "outputs": [
    {
     "data": {
      "text/plain": [
       "{'fibonanchi_cached': 2.1124374375276394,\n",
       " 'fibonanchi_looped': 2.34632636305278,\n",
       " 'fibonanchi_uncached': 326.2817022122413}"
      ]
     },
     "execution_count": 8,
     "metadata": {},
     "output_type": "execute_result"
    }
   ],
   "source": [
    "{ name: mean(timings_diff[name].values()) for name in timings_diff.keys() }"
   ]
  },
  {
   "cell_type": "markdown",
   "metadata": {},
   "source": [
    "fibonanchi_uncached() \n",
    "- grows exponentially due having to recompute the entire recursion tree. \n",
    "- It quickly becomes comutationally infeasable to calculate higher numbers.\n",
    "\n",
    "fibonanchi_cached()\n",
    "- should be O(N), meaning 2x time per doubling of N\n",
    "- mean() is 2.1 (close to 2x) and the doubling time seems to go both up and down\n",
    "- this variance may be related to hash map bucket resizing operations \n",
    "\n",
    "fibonanchi_looped()\n",
    "- should be O(N), meaning 2x time per doubling of N\n",
    "- mean() is 2.5 and the doubling time seems to increase with higher N\n",
    "- this may be an artifiact of arrays needing a full memcopy on each resize event to preserve a contigious memory space/\n",
    "- thus to grow an array from 0 to N, may require log(N) resizing events that each need to copy an average of 1/2 N memory\n",
    "- this makes fibonanchi_looped() = O(N) + μO(N log(N))"
   ]
  },
  {
   "cell_type": "code",
   "execution_count": null,
   "metadata": {},
   "outputs": [],
   "source": []
  }
 ],
 "metadata": {
  "kernelspec": {
   "display_name": "Python 3",
   "language": "python",
   "name": "python3"
  },
  "language_info": {
   "codemirror_mode": {
    "name": "ipython",
    "version": 3
   },
   "file_extension": ".py",
   "mimetype": "text/x-python",
   "name": "python",
   "nbconvert_exporter": "python",
   "pygments_lexer": "ipython3",
   "version": "3.6.5"
  }
 },
 "nbformat": 4,
 "nbformat_minor": 2
}
