{
 "cells": [
  {
   "cell_type": "markdown",
   "metadata": {},
   "source": [
    "# Python\n",
    "\n",
    "This is an ipython notebook "
   ]
  },
  {
   "cell_type": "code",
   "execution_count": 1,
   "metadata": {},
   "outputs": [],
   "source": [
    "import timeit\n",
    "import simplejson\n",
    "from statistics import mean"
   ]
  },
  {
   "cell_type": "code",
   "execution_count": 2,
   "metadata": {},
   "outputs": [],
   "source": [
    "fibonanchi__cache={}\n",
    "def fibonanchi_cached(n):\n",
    "    if n not in fibonanchi__cache:\n",
    "        if n <= 1: fibonanchi__cache[n] = n\n",
    "        else:      fibonanchi__cache[n] = fibonanchi_cached(n-1) + fibonanchi_cached(n-2) \n",
    "    return fibonanchi__cache[n]\n",
    "\n",
    "def fibonanchi_uncached(n):\n",
    "    if n <= 1: return n\n",
    "    else:      return fibonanchi_uncached(n-1) + fibonanchi_uncached(n-2)\n",
    "    \n",
    "def fibonanchi_looped(n):\n",
    "    fibonanchi__loop_cache = [0,1]\n",
    "    if n >= len(fibonanchi__loop_cache): \n",
    "        for i in range(len(fibonanchi__loop_cache), n+1):\n",
    "            fibonanchi__loop_cache.append( fibonanchi__loop_cache[i-1] + fibonanchi__loop_cache[i-2] )\n",
    "    return fibonanchi__loop_cache[n]\n",
    "    \n",
    "def fibonanchi_range_cached(start=0,end=0):\n",
    "    if start and not end: end = start; start = 0;\n",
    "    return [ fibonanchi_cached(n) for n in range(start,end) ]\n",
    "    \n",
    "def fibonanchi_range_uncached(start=0,end=0):\n",
    "    if start and not end: end = start; start = 0;\n",
    "    return [ fibonanchi_uncached(n) for n in range(start,end) ]\n",
    "\n",
    "def fibonanchi_range_looped(start=0,end=0):\n",
    "    if start and not end: end = start; start = 0;\n",
    "    return [ fibonanchi_looped(n) for n in range(start,end) ]"
   ]
  },
  {
   "cell_type": "code",
   "execution_count": 3,
   "metadata": {},
   "outputs": [
    {
     "data": {
      "text/plain": [
       "222232244629420445529739893461909967206666939096499764990979600"
      ]
     },
     "execution_count": 3,
     "metadata": {},
     "output_type": "execute_result"
    }
   ],
   "source": [
    "fibonanchi_looped(300)"
   ]
  },
  {
   "cell_type": "code",
   "execution_count": 4,
   "metadata": {},
   "outputs": [
    {
     "data": {
      "text/plain": [
       "True"
      ]
     },
     "execution_count": 4,
     "metadata": {},
     "output_type": "execute_result"
    }
   ],
   "source": [
    "fibonanchi_range_cached(30) == fibonanchi_range_uncached(30) == fibonanchi_range_looped(30)"
   ]
  },
  {
   "cell_type": "code",
   "execution_count": 5,
   "metadata": {},
   "outputs": [
    {
     "data": {
      "text/plain": [
       "True"
      ]
     },
     "execution_count": 5,
     "metadata": {},
     "output_type": "execute_result"
    }
   ],
   "source": [
    "fibonanchi_cached(30) == fibonanchi_uncached(30) == fibonanchi_looped(30)"
   ]
  },
  {
   "cell_type": "markdown",
   "metadata": {},
   "source": [
    "#### Performance Tests"
   ]
  },
  {
   "cell_type": "markdown",
   "metadata": {},
   "source": [
    "How high we can fibonanchi in a reasonable time?"
   ]
  },
  {
   "cell_type": "code",
   "execution_count": 6,
   "metadata": {},
   "outputs": [
    {
     "data": {
      "text/plain": [
       "{'fibonanchi_uncached': {2: 4.00003045797348e-06,\n",
       "  4: 2.9999646358191967e-06,\n",
       "  8: 8.000002708286047e-06,\n",
       "  16: 0.0009370000334456563,\n",
       "  32: 0.6484030000283383},\n",
       " 'fibonanchi_cached': {2: 4.00003045797348e-06,\n",
       "  4: 1.9999570213258266e-06,\n",
       "  8: 2.00001522898674e-06,\n",
       "  16: 2.00001522898674e-06,\n",
       "  32: 4.00003045797348e-06,\n",
       "  64: 4.600000102072954e-05,\n",
       "  128: 3.6999990697950125e-05,\n",
       "  256: 0.0001509999856352806,\n",
       "  512: 0.00026599998818710446,\n",
       "  1024: 0.00048800004879012704,\n",
       "  2048: 0.0014329999685287476,\n",
       "  4096: 0.0026950000319629908},\n",
       " 'fibonanchi_looped': {2: 6.999995093792677e-06,\n",
       "  4: 3.999972250312567e-06,\n",
       "  8: 4.999979864805937e-06,\n",
       "  16: 5.999987479299307e-06,\n",
       "  32: 7.00005330145359e-06,\n",
       "  64: 9.999959729611874e-06,\n",
       "  128: 1.799996243789792e-05,\n",
       "  256: 3.100000321865082e-05,\n",
       "  512: 0.00011899997480213642,\n",
       "  1024: 0.00020299997413530946,\n",
       "  2048: 0.00036800000816583633,\n",
       "  4096: 0.0007299999706447124,\n",
       "  8192: 0.005231999966781586,\n",
       "  16384: 0.02045200002612546,\n",
       "  32768: 0.08643699996173382,\n",
       "  65536: 0.359686000039801,\n",
       "  131072: 1.3714239999535494}}"
      ]
     },
     "execution_count": 6,
     "metadata": {},
     "output_type": "execute_result"
    }
   ],
   "source": [
    "funcs   = { \"fibonanchi_uncached\": fibonanchi_uncached, \"fibonanchi_cached\": fibonanchi_cached, \"fibonanchi_looped\": fibonanchi_looped }\n",
    "timings = {}\n",
    "\n",
    "# Note: fibonanchi_uncached(64) takes an inordinate amount of time (got bored waiting)\n",
    "for name, func in funcs.items():\n",
    "    try:\n",
    "        time = 0\n",
    "        n    = 1\n",
    "        timings[name] = {}\n",
    "        while time <= 0.5:\n",
    "            time = timeit.timeit(lambda: func(2**n), number=1)\n",
    "            timings[name][2**n] = time\n",
    "            n    = n+1\n",
    "            # print(name, 2**n, time)\n",
    "    except Exception as exception: \n",
    "        # print(exception)\n",
    "        pass\n",
    "timings"
   ]
  },
  {
   "cell_type": "markdown",
   "metadata": {},
   "source": [
    "Now inspect relative timings for each doubling of the fibonanchi number"
   ]
  },
  {
   "cell_type": "code",
   "execution_count": 7,
   "metadata": {},
   "outputs": [
    {
     "data": {
      "text/plain": [
       "{'fibonanchi_uncached': {4: 0.7499854481955762,\n",
       "  8: 2.666699004637265,\n",
       "  16: 117.12496452971864,\n",
       "  32: 691.9989080938961},\n",
       " 'fibonanchi_cached': {4: 0.4999854481955763,\n",
       "  8: 1.0000291044558922,\n",
       "  16: 1.0,\n",
       "  32: 2.0,\n",
       "  64: 11.499912689173458,\n",
       "  128: 0.8043476060201905,\n",
       "  256: 4.081081718856927,\n",
       "  512: 1.761589493323465,\n",
       "  1024: 1.834586731059806,\n",
       "  2048: 2.9364750517576983,\n",
       "  4096: 1.8806699868457994},\n",
       " 'fibonanchi_looped': {4: 0.571425007691732,\n",
       "  8: 1.2500036380040456,\n",
       "  16: 1.2000023283158128,\n",
       "  32: 1.166677984846574,\n",
       "  64: 1.4285547979378015,\n",
       "  128: 1.8000034924737192,\n",
       "  256: 1.722225994948858,\n",
       "  512: 3.838708466021751,\n",
       "  1024: 1.705882496805915,\n",
       "  2048: 1.8128081529731932,\n",
       "  4096: 1.983695528386357,\n",
       "  8192: 7.167123530376108,\n",
       "  16384: 3.909021436539937,\n",
       "  32768: 4.22633482550943,\n",
       "  65536: 4.161250392760463,\n",
       "  131072: 3.812836751504909}}"
      ]
     },
     "execution_count": 7,
     "metadata": {},
     "output_type": "execute_result"
    }
   ],
   "source": [
    "timings_diff = {}\n",
    "for name, func in funcs.items():\n",
    "    timings_diff[name] = {}\n",
    "    for n in range(0,100):\n",
    "        if 2**n in timings[name] and 2**(n+1) in timings[name]:\n",
    "            timings_diff[name][2**(n+1)] = timings[name][2**(n+1)] / timings[name][2**n] \n",
    "\n",
    "timings_diff"
   ]
  },
  {
   "cell_type": "code",
   "execution_count": 8,
   "metadata": {},
   "outputs": [
    {
     "data": {
      "text/plain": [
       "{'fibonanchi_uncached': 203.1351392691119,\n",
       " 'fibonanchi_cached': 2.663516166335347,\n",
       " 'fibonanchi_looped': 2.609784676568538}"
      ]
     },
     "execution_count": 8,
     "metadata": {},
     "output_type": "execute_result"
    }
   ],
   "source": [
    "{ name: mean(timings_diff[name].values()) for name in timings_diff.keys() }"
   ]
  },
  {
   "cell_type": "markdown",
   "metadata": {},
   "source": [
    "fibonanchi_uncached() \n",
    "- grows exponentially due having to recompute the entire recursion tree. \n",
    "- It quickly becomes comutationally infeasable to calculate higher numbers.\n",
    "\n",
    "fibonanchi_cached()\n",
    "- should be O(N), meaning 2x time per doubling of N\n",
    "- mean() is 2.1 (close to 2x) and the doubling time seems to go both up and down\n",
    "- this variance may be related to hash map bucket resizing operations \n",
    "\n",
    "fibonanchi_looped()\n",
    "- should be O(N), meaning 2x time per doubling of N\n",
    "- mean() is 2.5 and the doubling time seems to increase with higher N\n",
    "- this may be an artifiact of arrays needing a full memcopy on each resize event to preserve a contigious memory space/\n",
    "- thus to grow an array from 0 to N, may require log(N) resizing events that each need to copy an average of 1/2 N memory\n",
    "- this makes fibonanchi_looped() = O(N) + μO(N log(N))"
   ]
  }
 ],
 "metadata": {
  "kernelspec": {
   "display_name": "Python 3",
   "language": "python",
   "name": "python3"
  },
  "language_info": {
   "codemirror_mode": {
    "name": "ipython",
    "version": 3
   },
   "file_extension": ".py",
   "mimetype": "text/x-python",
   "name": "python",
   "nbconvert_exporter": "python",
   "pygments_lexer": "ipython3",
   "version": "3.6.7"
  }
 },
 "nbformat": 4,
 "nbformat_minor": 2
}
